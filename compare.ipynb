{
 "cells": [
  {
   "cell_type": "code",
   "id": "initial_id",
   "metadata": {
    "collapsed": true
   },
   "source": [
    "%load_ext autoreload\n",
    "%autoreload 2\n",
    "from ipywidgets import widgets\n",
    "from plotly.subplots import make_subplots\n",
    "import plotly.graph_objects as go\n",
    "\n",
    "from utilities import load_mappings, extract_faults\n"
   ],
   "outputs": [],
   "execution_count": null
  },
  {
   "metadata": {},
   "cell_type": "code",
   "source": [
    "base_mapped_faults, base_file_sizes = load_mappings(\"example\")\n",
    "test_mapped_faults, test_file_sizes = load_mappings(\"example\")\n"
   ],
   "id": "f9d9d7e3d055dc80",
   "outputs": [],
   "execution_count": null
  },
  {
   "metadata": {},
   "cell_type": "code",
   "source": [
    "# Whether to include minor page faults in analysis\n",
    "page_fault_checkbox = widgets.Checkbox(\n",
    "    description=\"Include minor page faults\",\n",
    "    disabled=False,\n",
    ")\n",
    "\n",
    "# The file to analyze\n",
    "base_file_name_widget = widgets.Dropdown(\n",
    "    options= list(set(m[\"file_name\"] for m in base_mapped_faults)),\n",
    "    description=\"Base File Name:\",\n",
    "    layout=widgets.Layout(padding=\"0px 0px 200px 0px\", width=\"800px\"),\n",
    "    disabled=False,\n",
    ")\n",
    "\n",
    "test_file_name_widget = widgets.Dropdown(\n",
    "    options= list(set(m[\"file_name\"] for m in test_mapped_faults)),\n",
    "    description=\"Test File Name:\",\n",
    "    layout=widgets.Layout(padding=\"0px 0px 200px 0px\", width=\"800px\"),\n",
    "    disabled=False,\n",
    ")\n",
    "\n",
    "\n",
    "display(page_fault_checkbox)\n",
    "display(base_file_name_widget)\n",
    "display(test_file_name_widget)\n",
    "\n",
    "# Param: If applicable, the name of file embedded within APK\n",
    "# This is useful if native libraries are embedded within the APK instead of extracted out\n",
    "apk_entry_name = None\n"
   ],
   "id": "7db8f150adeab78f",
   "outputs": [],
   "execution_count": null
  },
  {
   "metadata": {},
   "cell_type": "code",
   "source": [
    "base_faults, _, _ = extract_faults(base_file_name_widget.value, apk_entry_name, base_file_sizes, base_mapped_faults, page_fault_checkbox.value)\n",
    "test_faults, _, _ = extract_faults(test_file_name_widget.value, apk_entry_name, test_file_sizes, test_mapped_faults, page_fault_checkbox.value)\n"
   ],
   "id": "7d6d0eedc976cf22",
   "outputs": [],
   "execution_count": null
  },
  {
   "metadata": {},
   "cell_type": "code",
   "source": [
    "def compute_summary_statistics(df):\n",
    "  \"\"\"Computes summary statistics for a given dataframe.\"\"\"\n",
    "  num_page_faults = df['offset'].count()\n",
    "  num_major_page_faults = df[df['is_major'] == True]['offset'].count()\n",
    "\n",
    "  if not df.empty:\n",
    "    time_diff = df['ts'].max() - df['ts'].min()\n",
    "  else:\n",
    "    time_diff = None\n",
    "\n",
    "  print(f\"Elapsed Time: {time_diff}, {num_page_faults} Page Faults , {num_major_page_faults} Major Page Faults\")\n",
    "\n",
    "print(\"Base:\")\n",
    "compute_summary_statistics(base_faults)\n",
    "print(\"Test:\")\n",
    "compute_summary_statistics(test_faults)"
   ],
   "id": "f80a51ac30843436",
   "outputs": [],
   "execution_count": null
  },
  {
   "metadata": {},
   "cell_type": "code",
   "source": [
    "fig = make_subplots(rows=2, cols=1, shared_xaxes=True, vertical_spacing=0.1, subplot_titles=(\"Base Offset by Index\", \"Test Offset by Index\"))\n",
    "\n",
    "fig.add_trace(go.Scatter(\n",
    "    x=base_faults.index,\n",
    "    y=base_faults['offset'],\n",
    "    mode='markers',\n",
    "    name='Base',\n",
    "), row=1, col=1)\n",
    "\n",
    "fig.add_trace(go.Scatter(\n",
    "    x=test_faults.index,\n",
    "    y=test_faults['offset'],\n",
    "    mode='markers',\n",
    "    name='Test',\n",
    "), row=2, col=1)\n",
    "\n",
    "fig.update_layout(\n",
    "    title=\"Offsets (Base vs. Test)\",\n",
    "    height=600,\n",
    "    width=1400,\n",
    "    showlegend=True\n",
    ").show()\n"
   ],
   "id": "20ab320abb8d96c1",
   "outputs": [],
   "execution_count": null
  },
  {
   "metadata": {},
   "cell_type": "code",
   "source": [
    "fig = make_subplots(rows=2, cols=1, shared_xaxes=True, vertical_spacing=0.1, subplot_titles=(\"Base Offset by Time\", \"Test Offset by Time\"))\n",
    "\n",
    "fig.add_trace(go.Scatter(\n",
    "    x=base_faults['ts'],\n",
    "    y=base_faults['offset'],\n",
    "    mode='markers',\n",
    "    name='Base',\n",
    "), row=1, col=1)\n",
    "\n",
    "fig.add_trace(go.Scatter(\n",
    "    x=test_faults['ts'],\n",
    "    y=test_faults['offset'],\n",
    "    mode='markers',\n",
    "    name='Test',\n",
    "), row=2, col=1)\n",
    "\n",
    "fig.update_layout(\n",
    "    title=\"Offsets (Base vs. Test)\",\n",
    "    height=600,\n",
    "    width=1400,\n",
    "    showlegend=True\n",
    ").show()"
   ],
   "id": "3d6261f8e10b8585",
   "outputs": [],
   "execution_count": null
  },
  {
   "metadata": {},
   "cell_type": "code",
   "source": [
    "fig = make_subplots(rows=2, cols=1, shared_xaxes=True, vertical_spacing=0.1, subplot_titles=(\"Base Cumulative Page Faults Over Time\", \"Test Cumulative Page Faults Over Time\"))\n",
    "\n",
    "fig.add_trace(go.Scatter(\n",
    "    x=base_faults['ts'],\n",
    "    y=base_faults.index,\n",
    "    mode='lines',\n",
    "    name='Base',\n",
    "), row=1, col=1)\n",
    "\n",
    "fig.add_trace(go.Scatter(\n",
    "    x=test_faults['ts'],\n",
    "    y=test_faults.index,\n",
    "    mode='lines',\n",
    "    name='Test',\n",
    "), row=2, col=1)\n",
    "\n",
    "fig.update_layout(\n",
    "    height=600,\n",
    "    width=1400,\n",
    "    showlegend=True\n",
    ").show()\n"
   ],
   "id": "3f309bcc64057ea9",
   "outputs": [],
   "execution_count": null
  },
  {
   "metadata": {},
   "cell_type": "code",
   "source": [
    "fig = make_subplots(rows=2, cols=1, shared_xaxes=True, vertical_spacing=0.1, subplot_titles=(\"Base Offset by Index\", \"Test Offset by Index\"))\n",
    "\n",
    "fig.add_trace(go.Scatter(\n",
    "    x=base_faults.index,\n",
    "    y=base_faults['offset_diff'],\n",
    "    mode='lines',\n",
    "    name='Base',\n",
    "), row=1, col=1)\n",
    "\n",
    "fig.add_trace(go.Scatter(\n",
    "    x=test_faults.index,\n",
    "    y=test_faults['offset_diff'],\n",
    "    mode='lines',\n",
    "    name='Test',\n",
    "), row=2, col=1)\n",
    "\n",
    "fig.update_layout(\n",
    "    height=700,\n",
    "    width=1500,\n",
    "    showlegend=True\n",
    ").show()\n"
   ],
   "id": "fb3b38186cabe768",
   "outputs": [],
   "execution_count": null
  }
 ],
 "metadata": {
  "kernelspec": {
   "display_name": "Python 3",
   "language": "python",
   "name": "python3"
  },
  "language_info": {
   "codemirror_mode": {
    "name": "ipython",
    "version": 2
   },
   "file_extension": ".py",
   "mimetype": "text/x-python",
   "name": "python",
   "nbconvert_exporter": "python",
   "pygments_lexer": "ipython2",
   "version": "2.7.6"
  }
 },
 "nbformat": 4,
 "nbformat_minor": 5
}
