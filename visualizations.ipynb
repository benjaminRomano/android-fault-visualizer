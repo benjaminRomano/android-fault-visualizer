{
 "cells": [
  {
   "cell_type": "markdown",
   "metadata": {},
   "source": [
    "# Page Fault Visualizer\n",
    "\n",
    "This notebook enables visualizing the page fault behavior per file.\n"
   ]
  },
  {
   "cell_type": "code",
   "execution_count": null,
   "id": "50c53c51-d567-4252-bb30-1677ae58afe3",
   "metadata": {},
   "outputs": [],
   "source": [
    "%load_ext autoreload\n",
    "%autoreload 2\n",
    "# Uncommment to use vegafusion to generate charts more efficiently\n",
    "#alt.data_transformers.enable(\"vegafusion\")\n",
    "\n",
    "from utilities import load_mappings, page_fault_chart,  time_based_page_fault_chart, extract_faults, fault_time_series\n"
   ]
  },
  {
   "cell_type": "code",
   "execution_count": null,
   "id": "3b55bca7-59dd-4074-9491-9b9baf0b98aa",
   "metadata": {},
   "outputs": [],
   "source": [
    "# Replace with file name\n",
    "file_name = \"/data/app/~~eX4oIyiPqWD2a8bQOTNkaw==/org.mozilla.firefox-V6SAAfPOOi2mgt7uXjLlBg==/lib/x86_64/libxul.so\"\n",
    "# If applicable, the name of file embedded within APK\n",
    "apk_entry_name = None"
   ]
  },
  {
   "cell_type": "code",
   "execution_count": null,
   "id": "2a1ba139-ae73-4f28-8fbb-242de445ab5e",
   "metadata": {},
   "outputs": [],
   "source": [
    "mapped_faults, file_sizes = load_mappings()"
   ]
  },
  {
   "cell_type": "code",
   "execution_count": null,
   "id": "b763d8e3-fe12-4ba2-a8be-afd6dffa8a76",
   "metadata": {},
   "outputs": [],
   "source": [
    "page_fault_chart(file_name, apk_entry_name, file_sizes, mapped_faults)"
   ]
  },
  {
   "cell_type": "code",
   "execution_count": null,
   "metadata": {},
   "outputs": [],
   "source": [
    "time_based_page_fault_chart(file_name, apk_entry_name, file_sizes, mapped_faults)"
   ]
  },
  {
   "cell_type": "code",
   "execution_count": null,
   "id": "86e2cb04-4211-4801-b940-67816377c98a",
   "metadata": {},
   "outputs": [],
   "source": [
    "faults, _, _ = extract_faults(file_name, apk_entry_name, file_sizes, mapped_faults)\n",
    "fault_time_series(faults)"
   ]
  }
 ],
 "metadata": {
  "kernelspec": {
   "display_name": "Python 3 (ipykernel)",
   "language": "python",
   "name": "python3"
  },
  "language_info": {
   "codemirror_mode": {
    "name": "ipython",
    "version": 3
   },
   "file_extension": ".py",
   "mimetype": "text/x-python",
   "name": "python",
   "nbconvert_exporter": "python",
   "pygments_lexer": "ipython3",
   "version": "3.9.6"
  }
 },
 "nbformat": 4,
 "nbformat_minor": 5
}
