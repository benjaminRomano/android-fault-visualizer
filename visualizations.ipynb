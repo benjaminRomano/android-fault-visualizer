{
 "cells": [
  {
   "cell_type": "markdown",
   "id": "1fbe29c9",
   "metadata": {},
   "source": [
    "# Page Fault Visualizer\n",
    "\n",
    "This notebook enables visualizing the page fault behavior per file.\n"
   ]
  },
  {
   "cell_type": "code",
   "id": "50c53c51-d567-4252-bb30-1677ae58afe3",
   "metadata": {},
   "source": [
    "%load_ext autoreload\n",
    "%autoreload 2\n",
    "from ipywidgets import widgets\n",
    "import plotly.express as px\n",
    "\n",
    "from utilities import load_mappings, extract_faults"
   ],
   "outputs": [],
   "execution_count": null
  },
  {
   "cell_type": "code",
   "id": "2a1ba139-ae73-4f28-8fbb-242de445ab5e",
   "metadata": {},
   "source": [
    "# Replace with `output` to use locally generated files instead of example\n",
    "mapped_faults, file_sizes = load_mappings(\"example\")"
   ],
   "outputs": [],
   "execution_count": null
  },
  {
   "cell_type": "code",
   "id": "65cce56cc9622bfa",
   "metadata": {},
   "source": [
    "# Whether to include minor page faults in analysis\n",
    "page_fault_checkbox = widgets.Checkbox(\n",
    "    description=\"Include minor page faults\",\n",
    "    disabled=False,\n",
    ")\n",
    "\n",
    "# The file to analyze\n",
    "file_name_widget = widgets.Dropdown(\n",
    "    options= list(set(m[\"file_name\"] for m in mapped_faults)),\n",
    "    description=\"File Name:\",\n",
    "    layout=widgets.Layout(padding=\"0px 0px 200px 0px\", width=\"800px\"),\n",
    "    disabled=False,\n",
    ")\n",
    "\n",
    "\n",
    "display(page_fault_checkbox)\n",
    "display(file_name_widget)\n",
    "\n",
    "# Param: If applicable, the name of file embedded within APK\n",
    "# This is useful if native libraries are embedded within the APK instead of extracted out\n",
    "apk_entry_name = None"
   ],
   "outputs": [],
   "execution_count": null
  },
  {
   "metadata": {},
   "cell_type": "code",
   "source": [
    "faults, _, _ = extract_faults(file_name_widget.value, apk_entry_name, file_sizes, mapped_faults, page_fault_checkbox.value)\n",
    "\n",
    "px.scatter(\n",
    "    faults,\n",
    "    x='ts',\n",
    "    y='offset',\n",
    "    color='is_major',\n",
    "    title='Page Faults Over Time',\n",
    "    labels={'ts': 'Timestamp', 'offset': 'Offset', 'is_major': 'Is Major Fault'}\n",
    ").update_layout(height=300, width=1200).show()\n",
    "\n",
    "px.line(\n",
    "    faults,\n",
    "    x='ts',\n",
    "    y=faults.index,\n",
    "    title='Cumulative Page Faults Over Time',\n",
    "    labels={'ts': 'Timestamp', 'offset': 'Offset', 'cumulative_major_faults': 'Cumulative Major Faults'}\n",
    ").update_layout(height=300, width=1200).show()\n",
    "\n",
    "px.scatter(\n",
    "    faults,\n",
    "    x=faults.index,\n",
    "    y='offset',\n",
    "    color='is_major',\n",
    "    title='Faults with Offset vs Page Fault Index',\n",
    "    labels={'_index': 'Page Fault Index', 'offset': 'Offset'}\n",
    ").update_layout(height = 300, width=1200).show()\n",
    "\n",
    "\n",
    "px.scatter(\n",
    "    faults,\n",
    "    x=faults.index,\n",
    "    y='offset_diff',\n",
    "    color='is_major',\n",
    "    title='Offset Difference vs Page Fault Index',\n",
    "    labels={'_index': 'Page Fault Index', 'offset_diff': 'Offset Difference'}\n",
    ").update_layout(height = 300, width=1200).show()\n"
   ],
   "id": "1f6a1d0b98defb1d",
   "outputs": [],
   "execution_count": null
  }
 ],
 "metadata": {
  "kernelspec": {
   "display_name": "Python 3 (ipykernel)",
   "language": "python",
   "name": "python3"
  },
  "language_info": {
   "codemirror_mode": {
    "name": "ipython",
    "version": 3
   },
   "file_extension": ".py",
   "mimetype": "text/x-python",
   "name": "python",
   "nbconvert_exporter": "python",
   "pygments_lexer": "ipython3",
   "version": "3.11.10"
  }
 },
 "nbformat": 4,
 "nbformat_minor": 5
}
