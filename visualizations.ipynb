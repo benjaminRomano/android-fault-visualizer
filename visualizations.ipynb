{
 "cells": [
  {
   "cell_type": "markdown",
   "id": "1fbe29c9",
   "metadata": {},
   "source": [
    "# Page Fault Visualizer\n",
    "\n",
    "This notebook enables visualizing the page fault behavior per file.\n"
   ]
  },
  {
   "cell_type": "code",
   "execution_count": null,
   "id": "50c53c51-d567-4252-bb30-1677ae58afe3",
   "metadata": {},
   "outputs": [],
   "source": [
    "%load_ext autoreload\n",
    "%autoreload 2\n",
    "import altair as alt\n",
    "from ipywidgets import widgets\n",
    "alt.data_transformers.enable(\"vegafusion\")\n",
    "\n",
    "from utilities import load_mappings, page_fault_chart,  time_based_page_fault_chart, extract_faults, fault_time_series\n"
   ]
  },
  {
   "cell_type": "code",
   "execution_count": null,
   "id": "2a1ba139-ae73-4f28-8fbb-242de445ab5e",
   "metadata": {},
   "outputs": [],
   "source": [
    "# Replace with `output` to use locally generated files instead of example\n",
    "mapped_faults, file_sizes = load_mappings(\"example\")"
   ]
  },
  {
   "cell_type": "code",
   "execution_count": null,
   "metadata": {},
   "outputs": [],
   "source": [
    "file_names = list(set(m[\"file_name\"] for m in mapped_faults))\n",
    "file_name_widget = widgets.Dropdown(\n",
    "    options=file_names,\n",
    "    description=\"File Name:\",\n",
    "    layout=widgets.Layout(padding=\"0px 0px 200px 0px\", width=\"600px\"),\n",
    "    disabled=False,\n",
    ")\n",
    "\n",
    "display(file_name_widget)\n",
    "\n",
    "\n",
    "# Param: If applicable, the name of file embedded within APK\n",
    "apk_entry_name = None"
   ]
  },
  {
   "cell_type": "code",
   "execution_count": null,
   "metadata": {},
   "outputs": [],
   "source": [
    "faults, _, _ = extract_faults(\n",
    "    file_name_widget.value, apk_entry_name, file_sizes, mapped_faults\n",
    ")\n",
    "fault_time_series(faults)"
   ]
  },
  {
   "cell_type": "code",
   "execution_count": null,
   "id": "b763d8e3-fe12-4ba2-a8be-afd6dffa8a76",
   "metadata": {},
   "outputs": [],
   "source": [
    "page_fault_chart(file_name_widget.value, apk_entry_name, file_sizes, mapped_faults)"
   ]
  },
  {
   "cell_type": "code",
   "execution_count": null,
   "id": "17f5d0df",
   "metadata": {},
   "outputs": [],
   "source": [
    "time_based_page_fault_chart(\n",
    "    file_name_widget.value, apk_entry_name, file_sizes, mapped_faults\n",
    ")"
   ]
  }
 ],
 "metadata": {
  "kernelspec": {
   "display_name": "Python 3 (ipykernel)",
   "language": "python",
   "name": "python3"
  },
  "language_info": {
   "codemirror_mode": {
    "name": "ipython",
    "version": 3
   },
   "file_extension": ".py",
   "mimetype": "text/x-python",
   "name": "python",
   "nbconvert_exporter": "python",
   "pygments_lexer": "ipython3",
   "version": "3.9.6"
  }
 },
 "nbformat": 4,
 "nbformat_minor": 5
}
